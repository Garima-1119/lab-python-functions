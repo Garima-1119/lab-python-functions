{
 "cells": [
  {
   "cell_type": "markdown",
   "id": "25d7736c-ba17-4aff-b6bb-66eba20fbf4e",
   "metadata": {},
   "source": [
    "# Lab | Functions"
   ]
  },
  {
   "cell_type": "markdown",
   "id": "0c581062-8967-4d93-b06e-62833222f930",
   "metadata": {
    "tags": []
   },
   "source": [
    "## Exercise: Managing Customer Orders with Functions\n",
    "\n",
    "In the previous exercise, you improved the code for managing customer orders by using loops and flow control. Now, let's take it a step further and refactor the code by introducing functions.\n",
    "\n",
    "Follow the steps below to complete the exercise:\n",
    "\n",
    "1. Define a function named `initialize_inventory` that takes `products` as a parameter. Inside the function, implement the code for initializing the inventory dictionary using a loop and user input.\n",
    "\n",
    "2. Define a function named `get_customer_orders` that takes no parameters. Inside the function, implement the code for prompting the user to enter the product names using a loop. The function should return the `customer_orders` set.\n",
    "\n",
    "3. Define a function named `update_inventory` that takes `customer_orders` and `inventory` as parameters. Inside the function, implement the code for updating the inventory dictionary based on the customer orders.\n",
    "\n",
    "4. Define a function named `calculate_order_statistics` that takes `customer_orders` and `products` as parameters. Inside the function, implement the code for calculating the order statistics (total products ordered, and percentage of unique products ordered). The function should return these values.\n",
    "\n",
    "5. Define a function named `print_order_statistics` that takes `order_statistics` as a parameter. Inside the function, implement the code for printing the order statistics.\n",
    "\n",
    "6. Define a function named `print_updated_inventory` that takes `inventory` as a parameter. Inside the function, implement the code for printing the updated inventory.\n",
    "\n",
    "7. Call the functions in the appropriate sequence to execute the program and manage customer orders.\n",
    "\n",
    "Hints for functions:\n",
    "\n",
    "- Consider the input parameters required for each function and their return values.\n",
    "- Utilize function parameters and return values to transfer data between functions.\n",
    "- Test your functions individually to ensure they work correctly.\n",
    "\n",
    "\n"
   ]
  },
  {
   "cell_type": "code",
   "execution_count": 32,
   "id": "e451de28",
   "metadata": {
    "scrolled": true
   },
   "outputs": [
    {
     "name": "stdout",
     "output_type": "stream",
     "text": [
      "Please enter the quantity for t-shirt: 2\n",
      "Please enter the quantity for mug: 3\n",
      "Please enter the quantity for hat: 1\n",
      "Please enter the quantity for book: 4\n",
      "Please enter the quantity for keychain: 2\n",
      "inventory_dict: {'t-shirt': 2, 'mug': 3, 'hat': 1, 'book': 4, 'keychain': 2}\n"
     ]
    }
   ],
   "source": [
    "def initialize_inventory(products):\n",
    "    inventory_dict  = {}\n",
    "    for product in products:\n",
    "        quantity = int(input(f\"Please enter the quantity for {product}: \"))\n",
    "        inventory_dict[product] = quantity\n",
    "    return inventory_dict\n",
    "products_list = [\"t-shirt\", \"mug\", \"hat\", \"book\", \"keychain\"]\n",
    "inventory = initialize_inventory(products_list)\n",
    "print(\"inventory_dict:\",inventory)"
   ]
  },
  {
   "cell_type": "code",
   "execution_count": 37,
   "id": "93361a99",
   "metadata": {},
   "outputs": [
    {
     "name": "stdout",
     "output_type": "stream",
     "text": [
      "dict_keys(['t-shirt', 'mug', 'hat', 'book', 'keychain'])\n"
     ]
    }
   ],
   "source": [
    "inventory_dict = {'t-shirt': 2, 'mug': 3, 'hat': 1, 'book': 4, 'keychain': 2}\n",
    "print(inventory_dict.keys())"
   ]
  },
  {
   "cell_type": "code",
   "execution_count": 31,
   "id": "118383c2",
   "metadata": {},
   "outputs": [
    {
     "name": "stdout",
     "output_type": "stream",
     "text": [
      "Enter the product name:t-shirt\n",
      "Enter the product name:keychain\n",
      "Enter the product name:mug\n",
      "Enter the product name:hat\n",
      "Enter the product name:book\n",
      "{'mug', 't-shirt', 'hat', 'book', 'keychain'}\n"
     ]
    }
   ],
   "source": [
    "def get_customer_orders():\n",
    "    customer_order = set()\n",
    "    for product in products_list:\n",
    "        product_name = input(\"Enter the product name:\").lower() \n",
    "        customer_order.add(product_name)   \n",
    "    return customer_order\n",
    "\n",
    "customer_orders = get_customer_orders()\n",
    "print(customer_orders)\n",
    "\n",
    "\n"
   ]
  },
  {
   "cell_type": "code",
   "execution_count": 58,
   "id": "4b66a081",
   "metadata": {},
   "outputs": [
    {
     "name": "stdout",
     "output_type": "stream",
     "text": [
      "Not enough stock for 't-shirt'. Available: 2, Ordered: 3\n",
      "Updated Inventory: {'t-shirt': 2, 'mug': 2, 'hat': 0, 'book': 2, 'keychain': 1}\n"
     ]
    }
   ],
   "source": [
    "def update_inventory(customer_order, inventory_dict):\n",
    "   \n",
    "    for product, ordered_quantity in customer_order.items():\n",
    "        if product in inventory_dict:\n",
    "            if inventory_dict[product] >= ordered_quantity:\n",
    "                inventory_dict[product] -= ordered_quantity\n",
    "            else:\n",
    "                print(f\"Not enough stock for '{product}'. Available: {inventory_dict[product]}, Ordered: {ordered_quantity}\")\n",
    "        else:\n",
    "            print(f\"Product '{product}' not found in inventory.\")\n",
    "    \n",
    "    return inventory_dict\n",
    "\n",
    "customer_orders_dict =  {'mug':1,'t-shirt':3,'hat':1,'book':2,'keychain':1}\n",
    "\n",
    "updated_inventory = update_inventory(customer_orders_dict, inventory)\n",
    "print(\"Updated Inventory:\", updated_inventory)"
   ]
  },
  {
   "cell_type": "code",
   "execution_count": 62,
   "id": "f39b2adb",
   "metadata": {},
   "outputs": [
    {
     "name": "stdout",
     "output_type": "stream",
     "text": [
      "Percentage of unique products ordered: 100.00%\n"
     ]
    }
   ],
   "source": [
    "def calculate_order_statistics(customer_orders, products):\n",
    "    product_quantities = {}\n",
    "\n",
    "    # Aggregate quantities from all orders\n",
    "    for order in customer_orders:\n",
    "        product_id = order['product_id']\n",
    "        quantity = order['quantity']\n",
    "        if product_id in product_quantities:\n",
    "            product_quantities[product_id] += quantity\n",
    "        else:\n",
    "            product_quantities[product_id] = quantity\n",
    "            \n",
    "    # Calculate total products ordered\n",
    "    total_products_ordered = sum(product_quantities.values())\n",
    "\n",
    "    # Calculate the number of unique products ordered\n",
    "    unique_products_ordered = len(product_quantities)\n",
    "\n",
    "    # Calculate the percentage of unique products ordered\n",
    "    total_unique_products = len(products)\n",
    "    if total_products_ordered > 0:\n",
    "        percentage_unique_products = (unique_products_ordered / total_unique_products) * 100\n",
    "    else:\n",
    "        percentage_unique_products = 0.0\n",
    "\n",
    "    return percentage_unique_products\n",
    "customer_orders_dict = [\n",
    "    {'product_id': 't-shirt', 'quantity': 2},\n",
    "    {'product_id': 'mug', 'quantity': 1},\n",
    "    {'product_id': 'hat', 'quantity': 1},\n",
    "    {'product_id': 'book', 'quantity': 1},\n",
    "    {'product_id': 'keychain', 'quantity': 3}\n",
    "]\n",
    "\n",
    "products_list = [\"t-shirt\", \"mug\", \"hat\", \"book\", \"keychain\"]\n",
    "\n",
    "calculated_order_statistics = calculate_order_statistics(customer_orders_dict, products_list)\n",
    "print(f\"Percentage of unique products ordered: {calculated_order_statistics:.2f}%\")"
   ]
  },
  {
   "cell_type": "code",
   "execution_count": 70,
   "id": "61daee7b",
   "metadata": {},
   "outputs": [
    {
     "name": "stdout",
     "output_type": "stream",
     "text": [
      "Order Statistics:\n",
      "median: 50\n",
      "25th percentile: 25\n",
      "75th percentile: 75\n",
      "mean: 52\n",
      "Invalid input: order_statistics should be a dictionary.\n"
     ]
    }
   ],
   "source": [
    "def print_order_statistics(order_statistics):\n",
    "     if isinstance(order_statistics, dict):\n",
    "        print(\"Order Statistics:\")\n",
    "        for name, value in order_statistics.items():\n",
    "            print(f\"{name}: {value}\")\n",
    "     else:\n",
    "        print(\"Invalid input: order_statistics should be a dictionary.\")\n",
    "order_statistics = {\n",
    "    \"median\": 50,\n",
    "    \"25th percentile\": 25,\n",
    "    \"75th percentile\": 75,\n",
    "    \"mean\": 52\n",
    "}\n",
    "\n",
    "print_order_statistics(order_statistics)\n",
    "\n",
    "# Example of invalid input\n",
    "print_order_statistics(\"This is a string, not a dictionary\")     "
   ]
  },
  {
   "cell_type": "code",
   "execution_count": 71,
   "id": "6dd6e6a9",
   "metadata": {},
   "outputs": [
    {
     "name": "stdout",
     "output_type": "stream",
     "text": [
      "Updated Inventory:\n",
      "t-shirt: 2\n",
      "mug: 2\n",
      "hat: 0\n",
      "book: 2\n",
      "keychain: 1\n"
     ]
    }
   ],
   "source": [
    "def print_updated_inventory(inventory):\n",
    "    if isinstance(inventory, dict):\n",
    "        print(\"Updated Inventory:\")\n",
    "        for item, quantity in inventory.items():\n",
    "            print(f\"{item}: {quantity}\")\n",
    "    else:\n",
    "        print(\"Invalid input: inventory should be a dictionary.\")\n",
    "    inventory = {\n",
    "    't-shirt': 2,\n",
    "    'mug': 2,\n",
    "    'hat': 0,\n",
    "    'book': 2,\n",
    "    'keychain': 1\n",
    "}\n",
    "\n",
    "print_updated_inventory(inventory)"
   ]
  },
  {
   "cell_type": "code",
   "execution_count": null,
   "id": "ff5c1aba",
   "metadata": {},
   "outputs": [],
   "source": []
  }
 ],
 "metadata": {
  "kernelspec": {
   "display_name": "Python 3 (ipykernel)",
   "language": "python",
   "name": "python3"
  },
  "language_info": {
   "codemirror_mode": {
    "name": "ipython",
    "version": 3
   },
   "file_extension": ".py",
   "mimetype": "text/x-python",
   "name": "python",
   "nbconvert_exporter": "python",
   "pygments_lexer": "ipython3",
   "version": "3.9.13"
  }
 },
 "nbformat": 4,
 "nbformat_minor": 5
}
